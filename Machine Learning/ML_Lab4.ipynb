{
  "cells": [
    {
      "cell_type": "markdown",
      "metadata": {
        "id": "hGClrhQA9SAk"
      },
      "source": [
        "# Деревья решений"
      ]
    },
    {
      "cell_type": "markdown",
      "metadata": {
        "id": "veekMy8WRjBi"
      },
      "source": [
        "## Построение дерева"
      ]
    },
    {
      "cell_type": "markdown",
      "metadata": {
        "id": "SYkVwAFiUHXj"
      },
      "source": [
        "Опишем жадный алгоритм построения бинарного дерева решений:\n",
        "1. Начинаем со всей обучающей выборки $X$, которую помещаем в корень $R_1$. \n",
        "2. Задаём функционал качества $Q(X, j, t)$ и критерий остановки. \n",
        "3. Запускаем построение из корня: $SplitNode(1, R_1)$\n",
        "\n",
        "Функция $SplitNode(m, R_m)$\n",
        "1. Если выполнен критерий остановки, то выход.\n",
        "2. Находим наилучший с точки зрения $Q$ предикат: $j, t$: $[x_j<t]$\n",
        "3. Помещаем предикат в вкршину и получаем с его помощью разбиение $X$ на две части: $R_{left} = \\lbrace x|x_j<t \\rbrace$ и $R_{right} = \\lbrace x|x_j \\geqslant t \\rbrace$\n",
        "4. Поместим $R_{left}$ и $R_{right}$ соответсвенно в левое и правое поддерево.\n",
        "5. Рекурсивно повторяем $SplitNode(left, R_{left})$ и $SplitNode(right, R_{right})$.\n",
        "\n",
        "В конце поставим в соответствие каждому листу ответ. Для задачи классификации - это самый частый среди объектов класс или вектор с долями классов (можно интерпретировать как вероятности):\n",
        "$$ c_v = \\arg \\max_{k\\in Y} \\sum_{(x_i,y_i) \\in R_v} [y_i=k]  $$"
      ]
    },
    {
      "cell_type": "markdown",
      "metadata": {
        "id": "9P6FsdBog4Ai"
      },
      "source": [
        "## Функционал качества для деревьев решений\n"
      ]
    },
    {
      "cell_type": "markdown",
      "metadata": {
        "id": "9VAKO0aykGBD"
      },
      "source": [
        "Энтропия Шеннона для системы с N возможными состояниями определяется по формуле:\n",
        "$$H = - \\sum_{i=0}^{N} p_i\\log_2p_i $$"
      ]
    },
    {
      "cell_type": "markdown",
      "metadata": {
        "id": "5582B-1Fn2bw"
      },
      "source": [
        "где $p_i$ – вероятности нахождения системы в $i$-ом состоянии. \n",
        "\n",
        "Это очень важное понятие теории информации, которое позволяет оценить количество информации (степень хаоса в системе). Чем выше энтропия, тем менее упорядочена система и наоборот. С помощью энтропии мы формализуем функционал качества для разделение выборки (для задачи классификации)."
      ]
    },
    {
      "cell_type": "code",
      "execution_count": null,
      "metadata": {
        "id": "PbcMUd7bvk05"
      },
      "outputs": [],
      "source": [
        "import numpy as np\n",
        "import pandas as pd\n",
        "\n",
        "import matplotlib.pyplot as plt\n",
        "\n",
        "import random\n",
        "from pprint import pprint"
      ]
    },
    {
      "cell_type": "markdown",
      "metadata": {
        "id": "4AdLxP9CowTm"
      },
      "source": [
        "Код для расчёта энтропии:"
      ]
    },
    {
      "cell_type": "code",
      "execution_count": null,
      "metadata": {
        "id": "2mT8Jq8Av2sM"
      },
      "outputs": [],
      "source": [
        "def entropy(y):\n",
        "    \n",
        "    _, counts = np.unique(y, return_counts=True)\n",
        "\n",
        "    probabilities = counts / counts.sum()\n",
        "    entropy = sum(probabilities * -np.log2(probabilities))\n",
        "     \n",
        "    return entropy"
      ]
    },
    {
      "cell_type": "markdown",
      "metadata": {
        "id": "Xk9etb2vo7fK"
      },
      "source": [
        "Здесь $y$ - это массив значений целевой переменной"
      ]
    },
    {
      "cell_type": "markdown",
      "metadata": {
        "id": "07TCw0USzLus"
      },
      "source": [
        "Энтропия – по сути степень хаоса (или неопределенности) в системе. Уменьшение энтропии называют приростом информации (information gain, IG).\n",
        "\n",
        "Обочначим $R_v$ - объекты, которые нужно разделить в помощью предиката в вершине $v$. Запишем формулу для расчёта информационного прироста:\n",
        "$$ Q = IG = H(R_v) - (H(R_{left})+H(R_{right}))$$\n",
        "\n",
        "На каждом шаге нам нужно максимизировать этот функционал качества. Как это делать? Например, так можно перебрать $t$ для выбранного $j$."
      ]
    },
    {
      "cell_type": "markdown",
      "metadata": {
        "id": "trEWHDoXg_p9"
      },
      "source": [
        "Предыдущая версия формулы прироста информации слишком упрощена. В работе необходимо использовать более устойчивую формулу, которая учитывает не только энтропию подмножеств, но и их размер. \n",
        "\n",
        "$$ Q = IG = H(R_v) - \\Big (\\frac{|R_{left}|} {|R_{v}|} H(R_{left})+ \\frac{|R_{right}|} {|R_{v}|} H(R_{right})\\Big)$$\n",
        "\n",
        "где, $|R_{v}|$, $|R_{left}|$ и $|R_{right}|$ - количество элементов в соответствующих множествах."
      ]
    },
    {
      "cell_type": "markdown",
      "metadata": {
        "id": "9xmN6V_N1xBr"
      },
      "source": [
        "\n",
        "### Задание 4.1"
      ]
    },
    {
      "cell_type": "markdown",
      "metadata": {
        "id": "nWFHZScF2CBF"
      },
      "source": [
        "Реализуйте алгоритм построения дерева. Должны быть отдельные функции (методы) для расчёта энтропии (уже есть), для разделения дерева (используйте `pandas`), для подсчёта функционала качества $IG$, для выбора наилучшего разделения (с учетом признакоd и порогов), для проверки критерия остановки.\n",
        "\n",
        "Для набора данных `iris` реализуйте алгоритм и минимум три из разными критерия остановки из перечисленных ниже:\n",
        "* максимальной глубины дерева = 5\n",
        "* минимального числа объектов в листе = 5\n",
        "* максимальное количество листьев в дереве = 5\n",
        "* purity (остановка, если все объекты в листе относятся к одному классу)\n",
        "\n",
        "Реализуйте функцию `predict` (на вход функции подаётся датафрейм с объектами)\n",
        "\n",
        "Оцените точность каждой модели с помощью метрики доля правильных ответов (`from sklearn.metrics import accuracy_score` или реализовать свою)."
      ]
    },
    {
      "cell_type": "code",
      "execution_count": null,
      "metadata": {
        "id": "_bu4d_PftabE"
      },
      "outputs": [],
      "source": [
        "from collections import Counter\n",
        "from sklearn import datasets\n",
        "from sklearn.model_selection import train_test_split\n",
        "from sklearn.metrics import accuracy_score"
      ]
    },
    {
      "cell_type": "code",
      "execution_count": null,
      "metadata": {
        "id": "oF_7UWOCvJpp"
      },
      "outputs": [],
      "source": [
        "# Сущность обозначающая вершину дерева решений.\n",
        "class Node:\n",
        "    def __init__(\n",
        "        self,\n",
        "        probablities = None\n",
        "    ):\n",
        "        self.left = None\n",
        "        self.right = None\n",
        "        self.probabilities = probablities\n",
        "        self.indexOfRootElement = None\n",
        "        self.rootElementValue = -1\n",
        "        self.depth = 1\n",
        "        self.stopped = False\n",
        "\n",
        "    # Добавление вершины в дерево решений.\n",
        "    def addNode(self, probabilities):\n",
        "        node = Node(probabilities)\n",
        "\n",
        "        self.depth += 1\n",
        "\n",
        "        return node\n",
        "\n",
        "# Сущность обозначающая дерево решений.\n",
        "class ModifiedDecisionTreeClassifier:\n",
        "    def __init__(\n",
        "        self,\n",
        "        maximumDepth,\n",
        "        minimumObjectsInLeaf,\n",
        "        maximumTreeLeaves\n",
        "    ):\n",
        "        self.tree = None\n",
        "        self.y = None\n",
        "        self.maximumDepth = maximumDepth\n",
        "        self.minimumObjectsInLeaf = minimumObjectsInLeaf\n",
        "        self.maximumTreeLeaves = maximumTreeLeaves\n",
        "\n",
        "    # Обучение модели\n",
        "    def fit(self, x, y):\n",
        "        self.y = y\n",
        "\n",
        "        self.tree = Node(self.calculateProbabilities(y))\n",
        "\n",
        "        self.splitNode(np.asarray(x), y, self.tree)\n",
        "\n",
        "    # Подсчёт встречаемости объектов класса в выборке.\n",
        "    def calculateProbabilities(self, y):\n",
        "        result = []\n",
        "\n",
        "        for typeOfY in np.unique(self.y):\n",
        "            currentProbability = len(y[y == typeOfY]) / len(y)\n",
        "\n",
        "            result.append(currentProbability)\n",
        "        \n",
        "        return np.array(result)\n",
        "\n",
        "    # Подсчёт уменьшения энтропии.\n",
        "    def calculateInformationGain(self, node, leftChild, rightChild):\n",
        "        return entropy(node) - (len(leftChild) / len(node) * entropy(leftChild) + len(rightChild) / len(node) * entropy(rightChild))\n",
        "\n",
        "    # Создание новой вершины дерева, используя разделение текущей по классам.\n",
        "    def splitNode(self, x, y, node):\n",
        "        if node.depth >= self.maximumDepth or len(x) < self.minimumObjectsInLeaf or len(set(y)) == 1:\n",
        "            node.stopped = True\n",
        "\n",
        "            return\n",
        "\n",
        "        bestSplitIndex = None\n",
        "        bestRootElementValue = None\n",
        "        bestInformationGain = -1\n",
        "        \n",
        "        bestLeftDataframePart = []\n",
        "        bestRightDataframePart = []\n",
        "\n",
        "        leftFlagsPart = []\n",
        "        rightFlagsPart = []\n",
        "\n",
        "        for splitIndex in range(x.shape[1]):\n",
        "            currentFlag = x[:, splitIndex]\n",
        "\n",
        "            for rootElementValue in currentFlag:\n",
        "                leftPart = y[currentFlag < rootElementValue]\n",
        "                rightPart = y[currentFlag >= rootElementValue]\n",
        "\n",
        "                if len(leftPart) == 0 or len(rightPart) == 0:\n",
        "                    continue\n",
        "\n",
        "                informationGain = self.calculateInformationGain(y, leftPart, rightPart)\n",
        "\n",
        "                if informationGain > bestInformationGain:\n",
        "                    bestRootElementValue, bestInformationGain, bestLeftDataframePart, bestRightDataframePart, bestSplitIndex = rootElementValue, informationGain, leftPart, rightPart, splitIndex \n",
        "                    leftFlagsPart, rightFlagsPart, currentFlag = x[currentFlag < bestRootElementValue, :], x[currentFlag >= bestRootElementValue, :], x[:, bestSplitIndex]\n",
        "\n",
        "            if len(leftFlagsPart) < self.minimumObjectsInLeaf or len(rightFlagsPart) < self.minimumObjectsInLeaf:\n",
        "                node.stopped = True\n",
        "\n",
        "                return\n",
        "\n",
        "            node.left = node.addNode(self.calculateProbabilities(bestLeftDataframePart))\n",
        "            node.right = node.addNode(self.calculateProbabilities(bestRightDataframePart))\n",
        "            node.indexOfRootElement = bestSplitIndex\n",
        "            node.rootElementValue = bestRootElementValue\n",
        "\n",
        "            self.splitNode(rightFlagsPart, bestRightDataframePart, node.right)\n",
        "            self.splitNode(leftFlagsPart, bestLeftDataframePart, node.left)\n",
        "\n",
        "    # Предсказание значения целевой функции\n",
        "    def predict(self, x):\n",
        "        result = []\n",
        "\n",
        "        for element in np.asarray(x):\n",
        "            currentElement = np.argmax(self.predictNode(element, self.tree))\n",
        "\n",
        "            result.append(currentElement)\n",
        "\n",
        "        return np.array(result)\n",
        "\n",
        "    # Создание вершины в дереве.\n",
        "    def predictNode(self, x, node):\n",
        "        # print(node.indexOfRootElement)\n",
        "        if node.stopped:\n",
        "            return node.probabilities\n",
        "        elif x[node.indexOfRootElement] > node.rootElementValue:\n",
        "            return self.predictNode(x, node.right)\n",
        "        else:\n",
        "            return self.predictNode(x, node.left)\n"
      ]
    },
    {
      "cell_type": "code",
      "execution_count": null,
      "metadata": {
        "colab": {
          "base_uri": "https://localhost:8080/"
        },
        "id": "2an0fOQDlx72",
        "outputId": "a84b377c-e95d-4a21-c8ad-489ef2fd6b53"
      },
      "outputs": [
        {
          "data": {
            "text/plain": [
              "1.0"
            ]
          },
          "execution_count": 60,
          "metadata": {},
          "output_type": "execute_result"
        }
      ],
      "source": [
        "dataset = datasets.load_iris()\n",
        "xTrain, xTest, yTrain, yTest = train_test_split(dataset.data, dataset.target, test_size = 0.3, random_state = 42)\n",
        "\n",
        "tree = ModifiedDecisionTreeClassifier(5, 5, 5)\n",
        "tree.fit(xTrain, yTrain)\n",
        "\n",
        "predictionResults = tree.predict(xTest)\n",
        "round(accuracy_score(yTest, predictionResults), 4)"
      ]
    },
    {
      "cell_type": "code",
      "execution_count": null,
      "metadata": {
        "id": "6znTI5EVwKWF"
      },
      "outputs": [],
      "source": [
        "colors = []\n",
        "\n",
        "for i in predictionResults:\n",
        "    if i == 0:\n",
        "        colors.append('r')\n",
        "    elif i == 1:\n",
        "        colors.append('g')\n",
        "    elif i == 2:\n",
        "        colors.append('y')"
      ]
    },
    {
      "cell_type": "code",
      "execution_count": null,
      "metadata": {
        "colab": {
          "base_uri": "https://localhost:8080/",
          "height": 295
        },
        "id": "SaHgFzHEjLhd",
        "outputId": "0b0bb88f-17ab-4989-b39a-76cf00f33af8"
      },
      "outputs": [
        {
          "data": {
            "image/png": "[encoded data removed]",
            "text/plain": [
              "<Figure size 432x288 with 1 Axes>"
            ]
          },
          "metadata": {},
          "output_type": "display_data"
        }
      ],
      "source": [
        "plt.scatter(xTest[:, 0], xTest[:, 3], c = colors)\n",
        "\n",
        "plt.title(\"Classes\")\n",
        "plt.xlabel(\"sepal length\")\n",
        "plt.ylabel(\"petal width\")\n",
        "\n",
        "plt.show()"
      ]
    },
    {
      "cell_type": "code",
      "execution_count": null,
      "metadata": {
        "colab": {
          "base_uri": "https://localhost:8080/"
        },
        "id": "p_K_pT_pwkIS",
        "outputId": "fe3d25eb-5317-46aa-9b87-5b408a6226b4"
      },
      "outputs": [
        {
          "data": {
            "text/plain": [
              "0.9778"
            ]
          },
          "execution_count": 63,
          "metadata": {},
          "output_type": "execute_result"
        }
      ],
      "source": [
        "tree = ModifiedDecisionTreeClassifier(2, 1, 5)\n",
        "tree.fit(xTrain, yTrain)\n",
        "\n",
        "predictionResults = tree.predict(xTest)\n",
        "round(accuracy_score(yTest, predictionResults), 4)"
      ]
    },
    {
      "cell_type": "code",
      "execution_count": null,
      "metadata": {
        "colab": {
          "base_uri": "https://localhost:8080/",
          "height": 295
        },
        "id": "5zzmmlIuozI0",
        "outputId": "ce4e01b8-88ba-455a-f7c0-b23a20c60b0b"
      },
      "outputs": [
        {
          "data": {
            "image/png": "[encoded data removed]",
            "text/plain": [
              "<Figure size 432x288 with 1 Axes>"
            ]
          },
          "metadata": {},
          "output_type": "display_data"
        }
      ],
      "source": [
        "plt.scatter(xTest[:, 0], xTest[:, 3], c = colors)\n",
        "\n",
        "plt.title(\"Classes\")\n",
        "plt.xlabel(\"sepal length\")\n",
        "plt.ylabel(\"petal width\")\n",
        "\n",
        "plt.show()"
      ]
    },
    {
      "cell_type": "code",
      "execution_count": null,
      "metadata": {
        "colab": {
          "background_save": true
        },
        "id": "hw-Iu5hEw0Kd",
        "outputId": "0025627b-562d-445c-e678-da31d06d9e45"
      },
      "outputs": [
        {
          "data": {
            "text/plain": [
              "0.9778"
            ]
          },
          "execution_count": 65,
          "metadata": {},
          "output_type": "execute_result"
        }
      ],
      "source": [
        "tree = ModifiedDecisionTreeClassifier(2, 1, 2)\n",
        "tree.fit(xTrain, yTrain)\n",
        "\n",
        "predictionResults = tree.predict(xTest)\n",
        "round(accuracy_score(yTest, predictionResults), 4)"
      ]
    },
    {
      "cell_type": "code",
      "execution_count": null,
      "metadata": {
        "colab": {
          "background_save": true
        },
        "id": "J-wYOHVUpEWd",
        "outputId": "94487311-fb00-4b6e-80a0-d524fa570c72"
      },
      "outputs": [
        {
          "data": {
            "image/png": "[encoded data removed]",
            "text/plain": [
              "<Figure size 432x288 with 1 Axes>"
            ]
          },
          "metadata": {},
          "output_type": "display_data"
        }
      ],
      "source": [
        "plt.scatter(xTest[:, 0], xTest[:, 3], c = colors)\n",
        "\n",
        "plt.title(\"Classes\")\n",
        "plt.xlabel(\"sepal length\")\n",
        "plt.ylabel(\"petal width\")\n",
        "\n",
        "plt.show()"
      ]
    },
    {
      "cell_type": "code",
      "execution_count": null,
      "metadata": {
        "colab": {
          "background_save": true
        },
        "id": "ljoVYzE6udoC",
        "outputId": "9d0290be-2563-44e2-b569-19a12c9d26e6"
      },
      "outputs": [
        {
          "data": {
            "text/plain": [
              "1.0"
            ]
          },
          "execution_count": 67,
          "metadata": {},
          "output_type": "execute_result"
        }
      ],
      "source": [
        "tree = ModifiedDecisionTreeClassifier(7, 7, 7)\n",
        "tree.fit(xTrain, yTrain)\n",
        "\n",
        "predictionResults = tree.predict(xTest)\n",
        "round(accuracy_score(yTest, predictionResults), 4)"
      ]
    },
    {
      "cell_type": "code",
      "execution_count": null,
      "metadata": {
        "colab": {
          "background_save": true
        },
        "id": "WjJ9NeXMuglJ",
        "outputId": "138697d6-dd74-4099-e634-bc33ab1f5a8e"
      },
      "outputs": [
        {
          "data": {
            "image/png": "[encoded data removed]",
            "text/plain": [
              "<Figure size 432x288 with 1 Axes>"
            ]
          },
          "metadata": {},
          "output_type": "display_data"
        }
      ],
      "source": [
        "plt.scatter(xTest[:, 0], xTest[:, 3], c = colors)\n",
        "\n",
        "plt.title(\"Classes\")\n",
        "plt.xlabel(\"sepal length\")\n",
        "plt.ylabel(\"petal width\")\n",
        "\n",
        "plt.show()"
      ]
    },
    {
      "cell_type": "code",
      "execution_count": null,
      "metadata": {
        "colab": {
          "background_save": true
        },
        "id": "7lg9n3cZxLTZ",
        "outputId": "97f943d8-28b7-4092-c731-7e667a256a9f"
      },
      "outputs": [
        {
          "data": {
            "text/plain": [
              "0.2889"
            ]
          },
          "execution_count": 69,
          "metadata": {},
          "output_type": "execute_result"
        }
      ],
      "source": [
        "tree = ModifiedDecisionTreeClassifier(1, 1, 5)\n",
        "tree.fit(xTrain, yTrain)\n",
        "\n",
        "predictionResults = tree.predict(xTest)\n",
        "round(accuracy_score(yTest, predictionResults), 4)"
      ]
    },
    {
      "cell_type": "code",
      "execution_count": null,
      "metadata": {
        "colab": {
          "background_save": true
        },
        "id": "3f7ZMJ_JpGKl",
        "outputId": "9c5e95af-730b-4ce7-8b2f-0b05079521ec"
      },
      "outputs": [
        {
          "data": {
            "image/png": "[encoded data removed]",
            "text/plain": [
              "<Figure size 432x288 with 1 Axes>"
            ]
          },
          "metadata": {},
          "output_type": "display_data"
        }
      ],
      "source": [
        "plt.scatter(xTest[:, 0], xTest[:, 3], c = colors)\n",
        "\n",
        "plt.title(\"Classes\")\n",
        "plt.xlabel(\"sepal length\")\n",
        "plt.ylabel(\"petal width\")\n",
        "\n",
        "plt.show()"
      ]
    },
    {
      "cell_type": "code",
      "execution_count": null,
      "metadata": {
        "colab": {
          "background_save": true
        },
        "id": "ldOn03iaxQZf",
        "outputId": "626d4b28-10dc-40c6-a426-eb3e63588e45"
      },
      "outputs": [
        {
          "data": {
            "text/plain": [
              "0.9778"
            ]
          },
          "execution_count": 71,
          "metadata": {},
          "output_type": "execute_result"
        }
      ],
      "source": [
        "tree = ModifiedDecisionTreeClassifier(5, 2, 5)\n",
        "tree.fit(xTrain, yTrain)\n",
        "\n",
        "predictionResults = tree.predict(xTest)\n",
        "round(accuracy_score(yTest, predictionResults), 4)"
      ]
    },
    {
      "cell_type": "code",
      "execution_count": null,
      "metadata": {
        "colab": {
          "background_save": true
        },
        "id": "C4Y7ZCehpICB",
        "outputId": "db5f36fa-b0aa-49c2-dac7-524f07303730"
      },
      "outputs": [
        {
          "data": {
            "image/png": "[encoded data removed]",
            "text/plain": [
              "<Figure size 432x288 with 1 Axes>"
            ]
          },
          "metadata": {},
          "output_type": "display_data"
        }
      ],
      "source": [
        "plt.scatter(xTest[:, 0], xTest[:, 3], c = colors)\n",
        "\n",
        "plt.title(\"Classes\")\n",
        "plt.xlabel(\"sepal length\")\n",
        "plt.ylabel(\"petal width\")\n",
        "\n",
        "plt.show()"
      ]
    },
    {
      "cell_type": "markdown",
      "metadata": {
        "id": "OtgLBqAYxGuj"
      },
      "source": [
        "# **Итоги**\n",
        "\n",
        "Точность  моделей можно оценить как вполне высокую, поскольку accuracy близка к единице. При этом значения accuracy между моделями очень схожи. Мной построены несколько деревьев с использованием различных гиперпараметров. Для каждого случая построена получающаяся классификация. "
      ]
    },
    {
      "cell_type": "markdown",
      "metadata": {
        "id": "BkyCjLcy_CTM"
      },
      "source": [
        "##  Случайный лес"
      ]
    },
    {
      "cell_type": "markdown",
      "metadata": {
        "id": "7fKZe1FyRgCa"
      },
      "source": [
        "Опишем алгоритм случайный лес (*random forest*) и попутно разберём основные идеи:\n",
        "\n",
        "1. Зададим $N$ - число деревьев в лесу.\n",
        "2. Для каждого $n$ из $N$ сгенерируем свою выборку $X_n$. Пусть $m$ - это количество объектов в $X$. При генерации каждой $X_n$ мы будем брать объекты $m$ раз с возвращением. То есть один и тот же объект может попасть в выборку несколько раз, а какие-то объекты не попадут. (Этот способ назвается бутстрап).\n",
        "3. По каждой $X_n$ построим решающее дерево $b_n$. Обычно стараются делать глубокие деревья. В качестве критериев остановки можно использовать `max_depth` или `min_samples_leaf` (например, пока в каждом листе не окажется по одному объекту). При каждом разбиении сначала выбирается $k$ (эвристика $k = \\sqrt d$, где $d$ - это число признаков объектов из выборки $X$) случайных признаков из исходных, и оптимальное разделение выборки ищется только среди них. Обратите внимание, что мы не выбрасываем оставшиеся признаки!\n",
        "4. Итоговый алгоритм будет представлять собой результат голосования (для классификации) и среднее арифметическое (для регрессии). Модификация алгоритма предполагает учёт весов каждого отдельного слабого алгоритма в ансамбле, но в этом особо нет смысла.\n"
      ]
    },
    {
      "cell_type": "markdown",
      "metadata": {
        "id": "YJBQ8lc0WyrN"
      },
      "source": [
        "### Задание 4.2"
      ]
    },
    {
      "cell_type": "markdown",
      "metadata": {
        "id": "y594Jn04ZTCm"
      },
      "source": [
        "В качестве набора данных используйте: https://www.kaggle.com/mathchi/churn-for-bank-customers\n",
        "\n",
        "Там есть описание и примеры работы с этими данными. Если кратко, речь идёт про задачу прогнозирования оттока клиентов. Есть данные о 10 тысячах клиентов банка, часть из которых больше не являются клиентами."
      ]
    },
    {
      "cell_type": "markdown",
      "metadata": {
        "id": "be_mLbdVW2oG"
      },
      "source": [
        "Используя либо свою реализацию, либо  `DecisionTreeClassifier` с разными настройками из `sklearn.tree` реализйте алгоритм \"случайный лес\". \n",
        "\n",
        "Найдите наилучшие гиперпараметры этого алгоритма: количество деревьев, критерий остановки, функционал качества, минимальное количество объектов в листьях и другие.\n",
        "\n",
        "Нельзя использовать готовую реализацию случайного леса из `sklearn`.\n",
        "\n",
        "В подобных задачах очень важна интерпретируемость алгоритма. Попытайтесь оценить информативность признаков, т.е. ответить а вопрос, значения каких признаков являются самыми важными индикаторами того, что банк потеряет клиента."
      ]
    },
    {
      "cell_type": "code",
      "execution_count": null,
      "metadata": {
        "colab": {
          "base_uri": "https://localhost:8080/"
        },
        "id": "FEYyVBl2Pcfq",
        "outputId": "d937d604-d65c-4726-9e4b-3fb973db04db"
      },
      "outputs": [
        {
          "name": "stdout",
          "output_type": "stream",
          "text": [
            "Looking in indexes: https://pypi.org/simple, https://us-python.pkg.dev/colab-wheels/public/simple/\n",
            "Collecting category_encoders\n",
            "  Downloading category_encoders-2.5.1.post0-py2.py3-none-any.whl (72 kB)\n",
            "\u001b[K     |████████████████████████████████| 72 kB 683 kB/s \n",
            "\u001b[?25hRequirement already satisfied: patsy>=0.5.1 in /usr/local/lib/python3.7/dist-packages (from category_encoders) (0.5.3)\n",
            "Requirement already satisfied: statsmodels>=0.9.0 in /usr/local/lib/python3.7/dist-packages (from category_encoders) (0.12.2)\n",
            "Requirement already satisfied: numpy>=1.14.0 in /usr/local/lib/python3.7/dist-packages (from category_encoders) (1.21.6)\n",
            "Requirement already satisfied: pandas>=1.0.5 in /usr/local/lib/python3.7/dist-packages (from category_encoders) (1.3.5)\n",
            "Requirement already satisfied: scikit-learn>=0.20.0 in /usr/local/lib/python3.7/dist-packages (from category_encoders) (1.0.2)\n",
            "Requirement already satisfied: scipy>=1.0.0 in /usr/local/lib/python3.7/dist-packages (from category_encoders) (1.7.3)\n",
            "Requirement already satisfied: python-dateutil>=2.7.3 in /usr/local/lib/python3.7/dist-packages (from pandas>=1.0.5->category_encoders) (2.8.2)\n",
            "Requirement already satisfied: pytz>=2017.3 in /usr/local/lib/python3.7/dist-packages (from pandas>=1.0.5->category_encoders) (2022.6)\n",
            "Requirement already satisfied: six in /usr/local/lib/python3.7/dist-packages (from patsy>=0.5.1->category_encoders) (1.15.0)\n",
            "Requirement already satisfied: joblib>=0.11 in /usr/local/lib/python3.7/dist-packages (from scikit-learn>=0.20.0->category_encoders) (1.2.0)\n",
            "Requirement already satisfied: threadpoolctl>=2.0.0 in /usr/local/lib/python3.7/dist-packages (from scikit-learn>=0.20.0->category_encoders) (3.1.0)\n",
            "Installing collected packages: category-encoders\n",
            "Successfully installed category-encoders-2.5.1.post0\n"
          ]
        }
      ],
      "source": [
        "!pip install category_encoders"
      ]
    },
    {
      "cell_type": "code",
      "execution_count": null,
      "metadata": {
        "colab": {
          "base_uri": "https://localhost:8080/"
        },
        "id": "GdR1iUoOzvOc",
        "outputId": "379e0454-1316-478f-9eb5-d1bdc10d5137"
      },
      "outputs": [
        {
          "name": "stdout",
          "output_type": "stream",
          "text": [
            "Mounted at /content/drive/\n"
          ]
        }
      ],
      "source": [
        "from category_encoders import *\n",
        "from google.colab import drive\n",
        "drive.mount('/content/drive/')"
      ]
    },
    {
      "cell_type": "code",
      "execution_count": null,
      "metadata": {
        "colab": {
          "base_uri": "https://localhost:8080/",
          "height": 206
        },
        "id": "5JtnTj_dzxIm",
        "outputId": "d69d354a-30cd-4127-fedc-fd48a776c5b7"
      },
      "outputs": [
        {
          "data": {
            "text/html": [
              "\n",
              "  <div id=\"df-04174ff2-21ac-4aad-b13c-cb6f7e802590\">\n",
              "    <div class=\"colab-df-container\">\n",
              "      <div>\n",
              "<style scoped>\n",
              "    .dataframe tbody tr th:only-of-type {\n",
              "        vertical-align: middle;\n",
              "    }\n",
              "\n",
              "    .dataframe tbody tr th {\n",
              "        vertical-align: top;\n",
              "    }\n",
              "\n",
              "    .dataframe thead th {\n",
              "        text-align: right;\n",
              "    }\n",
              "</style>\n",
              "<table border=\"1\" class=\"dataframe\">\n",
              "  <thead>\n",
              "    <tr style=\"text-align: right;\">\n",
              "      <th></th>\n",
              "      <th>RowNumber</th>\n",
              "      <th>CustomerId</th>\n",
              "      <th>Surname</th>\n",
              "      <th>CreditScore</th>\n",
              "      <th>Geography</th>\n",
              "      <th>Gender</th>\n",
              "      <th>Age</th>\n",
              "      <th>Tenure</th>\n",
              "      <th>Balance</th>\n",
              "      <th>NumOfProducts</th>\n",
              "      <th>HasCrCard</th>\n",
              "      <th>IsActiveMember</th>\n",
              "      <th>EstimatedSalary</th>\n",
              "      <th>Exited</th>\n",
              "    </tr>\n",
              "  </thead>\n",
              "  <tbody>\n",
              "    <tr>\n",
              "      <th>0</th>\n",
              "      <td>1</td>\n",
              "      <td>15634602</td>\n",
              "      <td>Hargrave</td>\n",
              "      <td>619</td>\n",
              "      <td>France</td>\n",
              "      <td>Female</td>\n",
              "      <td>42</td>\n",
              "      <td>2</td>\n",
              "      <td>0.00</td>\n",
              "      <td>1</td>\n",
              "      <td>1</td>\n",
              "      <td>1</td>\n",
              "      <td>101348.88</td>\n",
              "      <td>1</td>\n",
              "    </tr>\n",
              "    <tr>\n",
              "      <th>1</th>\n",
              "      <td>2</td>\n",
              "      <td>15647311</td>\n",
              "      <td>Hill</td>\n",
              "      <td>608</td>\n",
              "      <td>Spain</td>\n",
              "      <td>Female</td>\n",
              "      <td>41</td>\n",
              "      <td>1</td>\n",
              "      <td>83807.86</td>\n",
              "      <td>1</td>\n",
              "      <td>0</td>\n",
              "      <td>1</td>\n",
              "      <td>112542.58</td>\n",
              "      <td>0</td>\n",
              "    </tr>\n",
              "    <tr>\n",
              "      <th>2</th>\n",
              "      <td>3</td>\n",
              "      <td>15619304</td>\n",
              "      <td>Onio</td>\n",
              "      <td>502</td>\n",
              "      <td>France</td>\n",
              "      <td>Female</td>\n",
              "      <td>42</td>\n",
              "      <td>8</td>\n",
              "      <td>159660.80</td>\n",
              "      <td>3</td>\n",
              "      <td>1</td>\n",
              "      <td>0</td>\n",
              "      <td>113931.57</td>\n",
              "      <td>1</td>\n",
              "    </tr>\n",
              "    <tr>\n",
              "      <th>3</th>\n",
              "      <td>4</td>\n",
              "      <td>15701354</td>\n",
              "      <td>Boni</td>\n",
              "      <td>699</td>\n",
              "      <td>France</td>\n",
              "      <td>Female</td>\n",
              "      <td>39</td>\n",
              "      <td>1</td>\n",
              "      <td>0.00</td>\n",
              "      <td>2</td>\n",
              "      <td>0</td>\n",
              "      <td>0</td>\n",
              "      <td>93826.63</td>\n",
              "      <td>0</td>\n",
              "    </tr>\n",
              "    <tr>\n",
              "      <th>4</th>\n",
              "      <td>5</td>\n",
              "      <td>15737888</td>\n",
              "      <td>Mitchell</td>\n",
              "      <td>850</td>\n",
              "      <td>Spain</td>\n",
              "      <td>Female</td>\n",
              "      <td>43</td>\n",
              "      <td>2</td>\n",
              "      <td>125510.82</td>\n",
              "      <td>1</td>\n",
              "      <td>1</td>\n",
              "      <td>1</td>\n",
              "      <td>79084.10</td>\n",
              "      <td>0</td>\n",
              "    </tr>\n",
              "  </tbody>\n",
              "</table>\n",
              "</div>\n",
              "      <button class=\"colab-df-convert\" onclick=\"convertToInteractive('df-04174ff2-21ac-4aad-b13c-cb6f7e802590')\"\n",
              "              title=\"Convert this dataframe to an interactive table.\"\n",
              "              style=\"display:none;\">\n",
              "        \n",
              "  <svg xmlns=\"http://www.w3.org/2000/svg\" height=\"24px\"viewBox=\"0 0 24 24\"\n",
              "       width=\"24px\">\n",
              "    <path d=\"M0 0h24v24H0V0z\" fill=\"none\"/>\n",
              "    <path d=\"M18.56 5.44l.94 2.06.94-2.06 2.06-.94-2.06-.94-.94-2.06-.94 2.06-2.06.94zm-11 1L8.5 8.5l.94-2.06 2.06-.94-2.06-.94L8.5 2.5l-.94 2.06-2.06.94zm10 10l.94 2.06.94-2.06 2.06-.94-2.06-.94-.94-2.06-.94 2.06-2.06.94z\"/><path d=\"M17.41 7.96l-1.37-1.37c-.4-.4-.92-.59-1.43-.59-.52 0-1.04.2-1.43.59L10.3 9.45l-7.72 7.72c-.78.78-.78 2.05 0 2.83L4 21.41c.39.39.9.59 1.41.59.51 0 1.02-.2 1.41-.59l7.78-7.78 2.81-2.81c.8-.78.8-2.07 0-2.86zM5.41 20L4 18.59l7.72-7.72 1.47 1.35L5.41 20z\"/>\n",
              "  </svg>\n",
              "      </button>\n",
              "      \n",
              "  <style>\n",
              "    .colab-df-container {\n",
              "      display:flex;\n",
              "      flex-wrap:wrap;\n",
              "      gap: 12px;\n",
              "    }\n",
              "\n",
              "    .colab-df-convert {\n",
              "      background-color: #E8F0FE;\n",
              "      border: none;\n",
              "      border-radius: 50%;\n",
              "      cursor: pointer;\n",
              "      display: none;\n",
              "      fill: #1967D2;\n",
              "      height: 32px;\n",
              "      padding: 0 0 0 0;\n",
              "      width: 32px;\n",
              "    }\n",
              "\n",
              "    .colab-df-convert:hover {\n",
              "      background-color: #E2EBFA;\n",
              "      box-shadow: 0px 1px 2px rgba(60, 64, 67, 0.3), 0px 1px 3px 1px rgba(60, 64, 67, 0.15);\n",
              "      fill: #174EA6;\n",
              "    }\n",
              "\n",
              "    [theme=dark] .colab-df-convert {\n",
              "      background-color: #3B4455;\n",
              "      fill: #D2E3FC;\n",
              "    }\n",
              "\n",
              "    [theme=dark] .colab-df-convert:hover {\n",
              "      background-color: #434B5C;\n",
              "      box-shadow: 0px 1px 3px 1px rgba(0, 0, 0, 0.15);\n",
              "      filter: drop-shadow(0px 1px 2px rgba(0, 0, 0, 0.3));\n",
              "      fill: #FFFFFF;\n",
              "    }\n",
              "  </style>\n",
              "\n",
              "      <script>\n",
              "        const buttonEl =\n",
              "          document.querySelector('#df-04174ff2-21ac-4aad-b13c-cb6f7e802590 button.colab-df-convert');\n",
              "        buttonEl.style.display =\n",
              "          google.colab.kernel.accessAllowed ? 'block' : 'none';\n",
              "\n",
              "        async function convertToInteractive(key) {\n",
              "          const element = document.querySelector('#df-04174ff2-21ac-4aad-b13c-cb6f7e802590');\n",
              "          const dataTable =\n",
              "            await google.colab.kernel.invokeFunction('convertToInteractive',\n",
              "                                                     [key], {});\n",
              "          if (!dataTable) return;\n",
              "\n",
              "          const docLinkHtml = 'Like what you see? Visit the ' +\n",
              "            '<a target=\"_blank\" href=https://colab.research.google.com/notebooks/data_table.ipynb>data table notebook</a>'\n",
              "            + ' to learn more about interactive tables.';\n",
              "          element.innerHTML = '';\n",
              "          dataTable['output_type'] = 'display_data';\n",
              "          await google.colab.output.renderOutput(dataTable, element);\n",
              "          const docLink = document.createElement('div');\n",
              "          docLink.innerHTML = docLinkHtml;\n",
              "          element.appendChild(docLink);\n",
              "        }\n",
              "      </script>\n",
              "    </div>\n",
              "  </div>\n",
              "  "
            ],
            "text/plain": [
              "   RowNumber  CustomerId   Surname  CreditScore Geography  Gender  Age  \\\n",
              "0          1    15634602  Hargrave          619    France  Female   42   \n",
              "1          2    15647311      Hill          608     Spain  Female   41   \n",
              "2          3    15619304      Onio          502    France  Female   42   \n",
              "3          4    15701354      Boni          699    France  Female   39   \n",
              "4          5    15737888  Mitchell          850     Spain  Female   43   \n",
              "\n",
              "   Tenure    Balance  NumOfProducts  HasCrCard  IsActiveMember  \\\n",
              "0       2       0.00              1          1               1   \n",
              "1       1   83807.86              1          0               1   \n",
              "2       8  159660.80              3          1               0   \n",
              "3       1       0.00              2          0               0   \n",
              "4       2  125510.82              1          1               1   \n",
              "\n",
              "   EstimatedSalary  Exited  \n",
              "0        101348.88       1  \n",
              "1        112542.58       0  \n",
              "2        113931.57       1  \n",
              "3         93826.63       0  \n",
              "4         79084.10       0  "
            ]
          },
          "execution_count": 20,
          "metadata": {},
          "output_type": "execute_result"
        }
      ],
      "source": [
        "dataframe = pd.read_csv(\"/content/drive/MyDrive/churn.csv\", sep = \",\")\n",
        "dataframe.head(5)"
      ]
    },
    {
      "cell_type": "code",
      "execution_count": null,
      "metadata": {
        "id": "OUS5nmwhhuWJ"
      },
      "outputs": [],
      "source": [
        "from sklearn.tree import DecisionTreeClassifier"
      ]
    },
    {
      "cell_type": "code",
      "execution_count": null,
      "metadata": {
        "id": "3TA6HGDGzip_"
      },
      "outputs": [],
      "source": [
        "class ModifiedRandomForestClassifier:\n",
        "    def __init__(\n",
        "            self,\n",
        "            treeNumber = 100,\n",
        "            maximumDepth = None,\n",
        "            minimumLeaves = 1\n",
        "    ):\n",
        "        self.treeNumber = treeNumber\n",
        "        self.maximumDepth = maximumDepth\n",
        "        self.minimumLeaves = minimumLeaves\n",
        "        self.forest = []\n",
        "\n",
        "    # Обучение модели\n",
        "    def fit(self, x, y):\n",
        "        number = len(y)\n",
        "        # Определение количества признаков\n",
        "        maximumFeatures = int(x.shape[1] ** 0.5)\n",
        "\n",
        "        # Генерация случайного леса \n",
        "        for i in range(self.treeNumber):\n",
        "            seed = np.random.randint(1, 1000)\n",
        "\n",
        "            # Отдельно рандомизируем x и y.\n",
        "            # Каждому набору признаков соответствует то значение целевой функции, которое было в исходном наборе данных.\n",
        "            xSample = x.sample(n = number, random_state = seed, replace = True)\n",
        "            ySample = y.sample(n = number, random_state = seed, replace = True)\n",
        "\n",
        "            currentTree = DecisionTreeClassifier(max_features = maximumFeatures, max_depth = self.maximumDepth, min_samples_leaf = self.minimumLeaves)\n",
        "            currentTree.fit(xSample, ySample)\n",
        "\n",
        "            self.forest.append(currentTree)\n",
        "\n",
        "    # Подсчёт важности признаков.\n",
        "    def calculateFlagImportance(self):\n",
        "        importance = []\n",
        "\n",
        "        for tree in self.forest:\n",
        "            importance.append(tree.feature_importances_)\n",
        "\n",
        "        return pd.DataFrame(data = importance).mean()\n",
        "\n",
        "    # Предсказание результатов целевой функции после обучения.\n",
        "    def predict(self, x):\n",
        "        prediction = []\n",
        "\n",
        "        for tree in self.forest:\n",
        "            prediction.append(tree.predict(x))\n",
        "\n",
        "        return round(pd.DataFrame(data = prediction).mean())\n",
        "\n",
        "    \n"
      ]
    },
    {
      "cell_type": "code",
      "execution_count": null,
      "metadata": {
        "id": "JeQ1qzz01GFc"
      },
      "outputs": [],
      "source": [
        "# Отсев признаков, которые очевидно не влияют на итоговое решение\n",
        "x = dataframe.drop([\"RowNumber\", \"Surname\", \"CustomerId\", \"Exited\"], axis = 1)\n",
        "y = dataframe.Exited\n",
        "\n",
        "x.Gender = [1 if element == \"Female\" else 0 for element in x.Gender]\n",
        "x.Geography = TargetEncoder().fit_transform(x.Geography, y)\n",
        "\n",
        "xTrain, xTest, yTrain, yTest = train_test_split(x, y, test_size = 0.3, random_state = 42)\n",
        "\n",
        "bestAccuracy = 0\n",
        "bestMaximumTree = 0\n",
        "bestMaximumDepth = 0\n",
        "bestMinimumLeaves = 0\n",
        "\n",
        "# Подбор наилучших гиперпараметров методом подбора и сравнением accuracy для разных наборов параметров.\n",
        "for tree in [100, 300, 500]:\n",
        "    for depth in range(1, 10):\n",
        "        for leaves in range(1, 6):\n",
        "            forest = ModifiedRandomForestClassifier(tree, depth, leaves)\n",
        "            forest.fit(xTrain, yTrain)\n",
        "\n",
        "            predictions = forest.predict(xTest)\n",
        "\n",
        "            currentAccuracy = accuracy_score(yTest, predictions)\n",
        "\n",
        "            if currentAccuracy > bestAccuracy:\n",
        "                bestAccuracy = currentAccuracy\n",
        "                bestMaximumTree = tree\n",
        "                bestMaximumDepth = depth\n",
        "                bestMinimumLeaves = leaves"
      ]
    },
    {
      "cell_type": "code",
      "execution_count": null,
      "metadata": {
        "colab": {
          "base_uri": "https://localhost:8080/"
        },
        "id": "jeejOJqPQxW5",
        "outputId": "4896f181-23b4-4221-9cc3-048becdab7b8"
      },
      "outputs": [
        {
          "data": {
            "text/plain": [
              "(100, 7, 2)"
            ]
          },
          "execution_count": 27,
          "metadata": {},
          "output_type": "execute_result"
        }
      ],
      "source": [
        "bestMaximumTree, bestMaximumDepth, bestMinimumLeaves"
      ]
    },
    {
      "cell_type": "code",
      "execution_count": null,
      "metadata": {
        "colab": {
          "base_uri": "https://localhost:8080/"
        },
        "id": "_2SnWIuz1mt_",
        "outputId": "6faff873-32c1-4dda-c7e4-dea7edf873eb"
      },
      "outputs": [
        {
          "data": {
            "text/plain": [
              "0.866"
            ]
          },
          "execution_count": 30,
          "metadata": {},
          "output_type": "execute_result"
        }
      ],
      "source": [
        "forest = ModifiedRandomForestClassifier(100, 7, 2)\n",
        "forest.fit(xTrain, yTrain)\n",
        "\n",
        "predictions = forest.predict(xTest)\n",
        "round(accuracy_score(yTest, predictions), 4)"
      ]
    },
    {
      "cell_type": "code",
      "execution_count": null,
      "metadata": {
        "colab": {
          "base_uri": "https://localhost:8080/",
          "height": 363
        },
        "id": "rg7puVvIylsT",
        "outputId": "c296db19-5553-4946-fb42-440e92d4ce87"
      },
      "outputs": [
        {
          "data": {
            "text/html": [
              "\n",
              "  <div id=\"df-4fd97da9-40be-42d9-bbe5-b2b3d5e95887\">\n",
              "    <div class=\"colab-df-container\">\n",
              "      <div>\n",
              "<style scoped>\n",
              "    .dataframe tbody tr th:only-of-type {\n",
              "        vertical-align: middle;\n",
              "    }\n",
              "\n",
              "    .dataframe tbody tr th {\n",
              "        vertical-align: top;\n",
              "    }\n",
              "\n",
              "    .dataframe thead th {\n",
              "        text-align: right;\n",
              "    }\n",
              "</style>\n",
              "<table border=\"1\" class=\"dataframe\">\n",
              "  <thead>\n",
              "    <tr style=\"text-align: right;\">\n",
              "      <th></th>\n",
              "      <th>Feature</th>\n",
              "      <th>Importance</th>\n",
              "    </tr>\n",
              "  </thead>\n",
              "  <tbody>\n",
              "    <tr>\n",
              "      <th>3</th>\n",
              "      <td>Age</td>\n",
              "      <td>0.387898</td>\n",
              "    </tr>\n",
              "    <tr>\n",
              "      <th>6</th>\n",
              "      <td>NumOfProducts</td>\n",
              "      <td>0.317649</td>\n",
              "    </tr>\n",
              "    <tr>\n",
              "      <th>8</th>\n",
              "      <td>IsActiveMember</td>\n",
              "      <td>0.096198</td>\n",
              "    </tr>\n",
              "    <tr>\n",
              "      <th>5</th>\n",
              "      <td>Balance</td>\n",
              "      <td>0.065204</td>\n",
              "    </tr>\n",
              "    <tr>\n",
              "      <th>1</th>\n",
              "      <td>Geography</td>\n",
              "      <td>0.057783</td>\n",
              "    </tr>\n",
              "    <tr>\n",
              "      <th>0</th>\n",
              "      <td>CreditScore</td>\n",
              "      <td>0.02509</td>\n",
              "    </tr>\n",
              "    <tr>\n",
              "      <th>9</th>\n",
              "      <td>EstimatedSalary</td>\n",
              "      <td>0.021189</td>\n",
              "    </tr>\n",
              "    <tr>\n",
              "      <th>2</th>\n",
              "      <td>Gender</td>\n",
              "      <td>0.014924</td>\n",
              "    </tr>\n",
              "    <tr>\n",
              "      <th>4</th>\n",
              "      <td>Tenure</td>\n",
              "      <td>0.011816</td>\n",
              "    </tr>\n",
              "    <tr>\n",
              "      <th>7</th>\n",
              "      <td>HasCrCard</td>\n",
              "      <td>0.002249</td>\n",
              "    </tr>\n",
              "  </tbody>\n",
              "</table>\n",
              "</div>\n",
              "      <button class=\"colab-df-convert\" onclick=\"convertToInteractive('df-4fd97da9-40be-42d9-bbe5-b2b3d5e95887')\"\n",
              "              title=\"Convert this dataframe to an interactive table.\"\n",
              "              style=\"display:none;\">\n",
              "        \n",
              "  <svg xmlns=\"http://www.w3.org/2000/svg\" height=\"24px\"viewBox=\"0 0 24 24\"\n",
              "       width=\"24px\">\n",
              "    <path d=\"M0 0h24v24H0V0z\" fill=\"none\"/>\n",
              "    <path d=\"M18.56 5.44l.94 2.06.94-2.06 2.06-.94-2.06-.94-.94-2.06-.94 2.06-2.06.94zm-11 1L8.5 8.5l.94-2.06 2.06-.94-2.06-.94L8.5 2.5l-.94 2.06-2.06.94zm10 10l.94 2.06.94-2.06 2.06-.94-2.06-.94-.94-2.06-.94 2.06-2.06.94z\"/><path d=\"M17.41 7.96l-1.37-1.37c-.4-.4-.92-.59-1.43-.59-.52 0-1.04.2-1.43.59L10.3 9.45l-7.72 7.72c-.78.78-.78 2.05 0 2.83L4 21.41c.39.39.9.59 1.41.59.51 0 1.02-.2 1.41-.59l7.78-7.78 2.81-2.81c.8-.78.8-2.07 0-2.86zM5.41 20L4 18.59l7.72-7.72 1.47 1.35L5.41 20z\"/>\n",
              "  </svg>\n",
              "      </button>\n",
              "      \n",
              "  <style>\n",
              "    .colab-df-container {\n",
              "      display:flex;\n",
              "      flex-wrap:wrap;\n",
              "      gap: 12px;\n",
              "    }\n",
              "\n",
              "    .colab-df-convert {\n",
              "      background-color: #E8F0FE;\n",
              "      border: none;\n",
              "      border-radius: 50%;\n",
              "      cursor: pointer;\n",
              "      display: none;\n",
              "      fill: #1967D2;\n",
              "      height: 32px;\n",
              "      padding: 0 0 0 0;\n",
              "      width: 32px;\n",
              "    }\n",
              "\n",
              "    .colab-df-convert:hover {\n",
              "      background-color: #E2EBFA;\n",
              "      box-shadow: 0px 1px 2px rgba(60, 64, 67, 0.3), 0px 1px 3px 1px rgba(60, 64, 67, 0.15);\n",
              "      fill: #174EA6;\n",
              "    }\n",
              "\n",
              "    [theme=dark] .colab-df-convert {\n",
              "      background-color: #3B4455;\n",
              "      fill: #D2E3FC;\n",
              "    }\n",
              "\n",
              "    [theme=dark] .colab-df-convert:hover {\n",
              "      background-color: #434B5C;\n",
              "      box-shadow: 0px 1px 3px 1px rgba(0, 0, 0, 0.15);\n",
              "      filter: drop-shadow(0px 1px 2px rgba(0, 0, 0, 0.3));\n",
              "      fill: #FFFFFF;\n",
              "    }\n",
              "  </style>\n",
              "\n",
              "      <script>\n",
              "        const buttonEl =\n",
              "          document.querySelector('#df-4fd97da9-40be-42d9-bbe5-b2b3d5e95887 button.colab-df-convert');\n",
              "        buttonEl.style.display =\n",
              "          google.colab.kernel.accessAllowed ? 'block' : 'none';\n",
              "\n",
              "        async function convertToInteractive(key) {\n",
              "          const element = document.querySelector('#df-4fd97da9-40be-42d9-bbe5-b2b3d5e95887');\n",
              "          const dataTable =\n",
              "            await google.colab.kernel.invokeFunction('convertToInteractive',\n",
              "                                                     [key], {});\n",
              "          if (!dataTable) return;\n",
              "\n",
              "          const docLinkHtml = 'Like what you see? Visit the ' +\n",
              "            '<a target=\"_blank\" href=https://colab.research.google.com/notebooks/data_table.ipynb>data table notebook</a>'\n",
              "            + ' to learn more about interactive tables.';\n",
              "          element.innerHTML = '';\n",
              "          dataTable['output_type'] = 'display_data';\n",
              "          await google.colab.output.renderOutput(dataTable, element);\n",
              "          const docLink = document.createElement('div');\n",
              "          docLink.innerHTML = docLinkHtml;\n",
              "          element.appendChild(docLink);\n",
              "        }\n",
              "      </script>\n",
              "    </div>\n",
              "  </div>\n",
              "  "
            ],
            "text/plain": [
              "           Feature Importance\n",
              "3              Age   0.387898\n",
              "6    NumOfProducts   0.317649\n",
              "8   IsActiveMember   0.096198\n",
              "5          Balance   0.065204\n",
              "1        Geography   0.057783\n",
              "0      CreditScore    0.02509\n",
              "9  EstimatedSalary   0.021189\n",
              "2           Gender   0.014924\n",
              "4           Tenure   0.011816\n",
              "7        HasCrCard   0.002249"
            ]
          },
          "execution_count": 31,
          "metadata": {},
          "output_type": "execute_result"
        }
      ],
      "source": [
        "pd.DataFrame(data = np.c_[xTest.columns, forest.calculateFlagImportance()], columns = [\"Feature\", \"Importance\"]).sort_values(by = \"Importance\", ascending=False)"
      ]
    },
    {
      "cell_type": "markdown",
      "metadata": {
        "id": "m1XBQQ8PzGDK"
      },
      "source": [
        "# **Итоги**\n",
        "\n",
        "В результате работы алгоритма получены следующие наилучшие гиперпараметры:\n",
        "* Количество деревьев - 100 \n",
        "* Максимальная глубина - 7, \n",
        "* минимальное количество объектов в листьях - 2\n",
        "\n",
        "Выделим пять наиболее значимых признаков в рамках реализации. Таковыми оказались:\n",
        "\n",
        "1.   Age\n",
        "2.   NumOfProducts\n",
        "3.   IsActiveMember\n",
        "4.   Balance\n",
        "5.   Geography\n",
        "\n",
        "\n",
        "\n"
      ]
    }
  ],
  "metadata": {
    "colab": {
      "provenance": []
    },
    "kernelspec": {
      "display_name": "Python 3",
      "name": "python3"
    }
  },
  "nbformat": 4,
  "nbformat_minor": 0
}
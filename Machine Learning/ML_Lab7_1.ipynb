{
  "nbformat": 4,
  "nbformat_minor": 0,
  "metadata": {
    "colab": {
      "provenance": []
    },
    "kernelspec": {
      "display_name": "Python 3",
      "language": "python",
      "name": "python3"
    },
    "language_info": {
      "codemirror_mode": {
        "name": "ipython",
        "version": 3
      },
      "file_extension": ".py",
      "mimetype": "text/x-python",
      "name": "python",
      "nbconvert_exporter": "python",
      "pygments_lexer": "ipython3",
      "version": "3.6.5"
    },
    "accelerator": "GPU",
    "gpuClass": "standard"
  },
  "cells": [
    {
      "cell_type": "markdown",
      "metadata": {
        "id": "vcnGdgw_YJ8u"
      },
      "source": [
        "# PyTorch. Основы: синтаксис, torch.cuda и torch.autograd\n",
        "\n",
        "## Задание 7.1"
      ]
    },
    {
      "cell_type": "code",
      "metadata": {
        "id": "RtyozNmmYJ89"
      },
      "source": [
        "import torch\n",
        "import matplotlib.pyplot as plt\n",
        "from torch.autograd import Variable"
      ],
      "execution_count": null,
      "outputs": []
    },
    {
      "cell_type": "markdown",
      "metadata": {
        "id": "ny4-Qi2wYJ-6"
      },
      "source": [
        "### Задача 1"
      ]
    },
    {
      "cell_type": "markdown",
      "metadata": {
        "id": "IWxlFq0bYJ-_"
      },
      "source": [
        "1). Создайте два вещественных тензора: `a` размером (3, 4) и `b` размером (12,)   \n",
        "2). Создайте тензор `c`, являющийся тензором `b`, но размера (2, 2, 3)  \n",
        "3). Выведите первый столбец матрицы `a` с помощью индексации"
      ]
    },
    {
      "cell_type": "code",
      "metadata": {
        "id": "3oxZuk3yYJ_A"
      },
      "source": [
        "a = torch.rand(3, 4)\n",
        "b = torch.rand(12)"
      ],
      "execution_count": null,
      "outputs": []
    },
    {
      "cell_type": "code",
      "source": [
        "a"
      ],
      "metadata": {
        "id": "R1ZyfRsBIYX6",
        "colab": {
          "base_uri": "https://localhost:8080/"
        },
        "outputId": "8bd1991f-8a3d-4283-a328-159b851da238"
      },
      "execution_count": null,
      "outputs": [
        {
          "output_type": "execute_result",
          "data": {
            "text/plain": [
              "tensor([[0.0496, 0.3724, 0.1271, 0.1081],\n",
              "        [0.9432, 0.3741, 0.1893, 0.5660],\n",
              "        [0.2195, 0.2523, 0.2520, 0.2241]])"
            ]
          },
          "metadata": {},
          "execution_count": 3
        }
      ]
    },
    {
      "cell_type": "code",
      "source": [
        "b"
      ],
      "metadata": {
        "id": "p9daR_doIZEo",
        "colab": {
          "base_uri": "https://localhost:8080/"
        },
        "outputId": "3a8aa2b6-adc4-4432-c49a-ec4a52954b48"
      },
      "execution_count": null,
      "outputs": [
        {
          "output_type": "execute_result",
          "data": {
            "text/plain": [
              "tensor([0.0278, 0.5573, 0.7231, 0.9914, 0.8846, 0.1327, 0.4900, 0.0392, 0.8637,\n",
              "        0.3760, 0.6314, 0.2505])"
            ]
          },
          "metadata": {},
          "execution_count": 4
        }
      ]
    },
    {
      "cell_type": "code",
      "source": [
        "c = b.reshape(2, 2, 3)\n",
        "c"
      ],
      "metadata": {
        "id": "ut13V2wdIaKG",
        "colab": {
          "base_uri": "https://localhost:8080/"
        },
        "outputId": "8c281fbe-7dbc-4b2a-ecf3-3ee21b588aad"
      },
      "execution_count": null,
      "outputs": [
        {
          "output_type": "execute_result",
          "data": {
            "text/plain": [
              "tensor([[[0.0278, 0.5573, 0.7231],\n",
              "         [0.9914, 0.8846, 0.1327]],\n",
              "\n",
              "        [[0.4900, 0.0392, 0.8637],\n",
              "         [0.3760, 0.6314, 0.2505]]])"
            ]
          },
          "metadata": {},
          "execution_count": 5
        }
      ]
    },
    {
      "cell_type": "code",
      "source": [
        "a[:, 0]"
      ],
      "metadata": {
        "id": "KCPYM4vZIb9J",
        "colab": {
          "base_uri": "https://localhost:8080/"
        },
        "outputId": "f201b0fe-5cbd-4bcc-b9da-697a09c3f9db"
      },
      "execution_count": null,
      "outputs": [
        {
          "output_type": "execute_result",
          "data": {
            "text/plain": [
              "tensor([0.0496, 0.9432, 0.2195])"
            ]
          },
          "metadata": {},
          "execution_count": 6
        }
      ]
    },
    {
      "cell_type": "markdown",
      "metadata": {
        "id": "D2IP_FrKYKAA"
      },
      "source": [
        "### Задача 2"
      ]
    },
    {
      "cell_type": "markdown",
      "metadata": {
        "id": "tBZFbSYQYKAA"
      },
      "source": [
        "1). Создайте два вещественных тензора: `a` размером (5, 2) и `b` размером (1,10)   \n",
        "2). Создайте тензор `c`, являющийся тензором `b`, но размера (5, 2)  \n",
        "3). Произведите все арифметические операции с тензорами `a` и `c`"
      ]
    },
    {
      "cell_type": "code",
      "metadata": {
        "id": "hzs2bH3GYKAB"
      },
      "source": [
        "a = torch.rand(5, 2)\n",
        "b = torch.rand(1, 10)"
      ],
      "execution_count": null,
      "outputs": []
    },
    {
      "cell_type": "code",
      "source": [
        "a"
      ],
      "metadata": {
        "id": "34-R2-cfIhhS",
        "colab": {
          "base_uri": "https://localhost:8080/"
        },
        "outputId": "d50e7d8f-7e71-475d-cb58-db3053ebda7b"
      },
      "execution_count": null,
      "outputs": [
        {
          "output_type": "execute_result",
          "data": {
            "text/plain": [
              "tensor([[0.2117, 0.1319],\n",
              "        [0.5642, 0.8132],\n",
              "        [0.0313, 0.3413],\n",
              "        [0.3094, 0.1033],\n",
              "        [0.7226, 0.3818]])"
            ]
          },
          "metadata": {},
          "execution_count": 8
        }
      ]
    },
    {
      "cell_type": "code",
      "source": [
        "b"
      ],
      "metadata": {
        "id": "Zj73Q1MVIh2m",
        "colab": {
          "base_uri": "https://localhost:8080/"
        },
        "outputId": "d4bfd50b-fe74-4b99-c5a3-700dcadcdf43"
      },
      "execution_count": null,
      "outputs": [
        {
          "output_type": "execute_result",
          "data": {
            "text/plain": [
              "tensor([[0.2449, 0.9452, 0.1994, 0.6360, 0.3360, 0.0123, 0.2402, 0.9596, 0.8800,\n",
              "         0.5194]])"
            ]
          },
          "metadata": {},
          "execution_count": 9
        }
      ]
    },
    {
      "cell_type": "code",
      "source": [
        "c = b.reshape(5, 2)\n",
        "c"
      ],
      "metadata": {
        "id": "wqSwkyvYIiOb",
        "colab": {
          "base_uri": "https://localhost:8080/"
        },
        "outputId": "710d2c0b-93ad-4162-eb36-2a8521a123d5"
      },
      "execution_count": null,
      "outputs": [
        {
          "output_type": "execute_result",
          "data": {
            "text/plain": [
              "tensor([[0.2449, 0.9452],\n",
              "        [0.1994, 0.6360],\n",
              "        [0.3360, 0.0123],\n",
              "        [0.2402, 0.9596],\n",
              "        [0.8800, 0.5194]])"
            ]
          },
          "metadata": {},
          "execution_count": 10
        }
      ]
    },
    {
      "cell_type": "code",
      "source": [
        "a.add(c)"
      ],
      "metadata": {
        "id": "N2J_fX_fIj2C",
        "colab": {
          "base_uri": "https://localhost:8080/"
        },
        "outputId": "af777922-734c-411d-af68-2abfd5e886bf"
      },
      "execution_count": null,
      "outputs": [
        {
          "output_type": "execute_result",
          "data": {
            "text/plain": [
              "tensor([[0.4567, 1.0771],\n",
              "        [0.7636, 1.4492],\n",
              "        [0.3674, 0.3536],\n",
              "        [0.5496, 1.0629],\n",
              "        [1.6026, 0.9012]])"
            ]
          },
          "metadata": {},
          "execution_count": 11
        }
      ]
    },
    {
      "cell_type": "code",
      "source": [
        "a.sub(c)"
      ],
      "metadata": {
        "id": "GEGJmhAdIlp2",
        "colab": {
          "base_uri": "https://localhost:8080/"
        },
        "outputId": "bb65b79a-cd61-4735-deb8-87cda864a2bc"
      },
      "execution_count": null,
      "outputs": [
        {
          "output_type": "execute_result",
          "data": {
            "text/plain": [
              "tensor([[-0.0332, -0.8133],\n",
              "        [ 0.3647,  0.1771],\n",
              "        [-0.3047,  0.3290],\n",
              "        [ 0.0692, -0.8563],\n",
              "        [-0.1574, -0.1376]])"
            ]
          },
          "metadata": {},
          "execution_count": 12
        }
      ]
    },
    {
      "cell_type": "code",
      "source": [
        "a.div(c)"
      ],
      "metadata": {
        "id": "YTTYsn6DIm1K",
        "colab": {
          "base_uri": "https://localhost:8080/"
        },
        "outputId": "527af21b-40e1-4ddd-fd1d-ffb238ce192a"
      },
      "execution_count": null,
      "outputs": [
        {
          "output_type": "execute_result",
          "data": {
            "text/plain": [
              "tensor([[ 0.8645,  0.1395],\n",
              "        [ 2.8288,  1.2785],\n",
              "        [ 0.0933, 27.6763],\n",
              "        [ 1.2882,  0.1077],\n",
              "        [ 0.8211,  0.7351]])"
            ]
          },
          "metadata": {},
          "execution_count": 13
        }
      ]
    },
    {
      "cell_type": "code",
      "source": [
        "a.mul(c)"
      ],
      "metadata": {
        "id": "7tmxQXrxIn8p",
        "colab": {
          "base_uri": "https://localhost:8080/"
        },
        "outputId": "cf5d7ec8-1337-4101-9522-34f4c7528554"
      },
      "execution_count": null,
      "outputs": [
        {
          "output_type": "execute_result",
          "data": {
            "text/plain": [
              "tensor([[0.0519, 0.1247],\n",
              "        [0.1125, 0.5172],\n",
              "        [0.0105, 0.0042],\n",
              "        [0.0743, 0.0991],\n",
              "        [0.6359, 0.1983]])"
            ]
          },
          "metadata": {},
          "execution_count": 14
        }
      ]
    },
    {
      "cell_type": "markdown",
      "metadata": {
        "id": "rIaroFO6YKBT"
      },
      "source": [
        "### Задача 3"
      ]
    },
    {
      "cell_type": "markdown",
      "metadata": {
        "id": "GfLHVvKvYKBT"
      },
      "source": [
        "1). Создайте тензор *целых чисел* `images` размерности (100, 200, 200, 3) (можно интерпретировать это как 100 картинок размера 200х200 с тремя цветовыми каналами, то есть 100 цветных изображений 200х200). Заполните его нулями  \n",
        "\n",
        "2). Сделайте так, чтобы у $i$-ой по порядку картинки была нарисована белая полоса толщиной два пикселя в строках, которые соответствуют номеру картинки. Например, у 3-ей по порядку картинки белая полоска будет занимать 6 и 7 строки, у 99 - 198 и 199. Сделать белую строку можно, записав в ячейки тензора число 255 (по всем трём каналам). Выведите несколько примеров с помощью `pylot`  \n",
        "\n",
        "3). Посчитайте среднее тензора `images` по 1-ой оси (по сути - средняя картинка), умножьте полученный тензор на 70. Нарисуйте с помощью `pyplot`, должна получиться серая картинка (при взятии среднего нужно привести тензор к float с помощью `.float()`, при отрисовке обратно к int с помощью `.int()`)"
      ]
    },
    {
      "cell_type": "code",
      "metadata": {
        "id": "pZVGHEQQYKBU"
      },
      "source": [
        "images = torch.zeros(100, 200, 200, 3)"
      ],
      "execution_count": null,
      "outputs": []
    },
    {
      "cell_type": "code",
      "source": [
        "for idx in range(images.shape[0]):\n",
        "  images[idx][2*idx : 2*idx + 2] = 255"
      ],
      "metadata": {
        "id": "eWvQWlC1Iqmb"
      },
      "execution_count": null,
      "outputs": []
    },
    {
      "cell_type": "code",
      "source": [
        "plt.imshow(images[3])"
      ],
      "metadata": {
        "id": "n9f9lPWFIrsx",
        "colab": {
          "base_uri": "https://localhost:8080/"
        },
        "outputId": "d3ffd611-e67b-4bd0-c10a-73d43b7e2afc"
      },
      "execution_count": null,
      "outputs": [
        {
          "output_type": "stream",
          "name": "stderr",
          "text": [
            "WARNING:matplotlib.image:Clipping input data to the valid range for imshow with RGB data ([0..1] for floats or [0..255] for integers).\n"
          ]
        },
        {
          "output_type": "execute_result",
          "data": {
            "text/plain": [
              "<matplotlib.image.AxesImage at 0x7fbd8bf0a1f0>"
            ]
          },
          "metadata": {},
          "execution_count": 17
        },
        {
          "output_type": "display_data",
          "data": {
            "text/plain": [
              "<Figure size 432x288 with 1 Axes>"
            ],
            "image/png": "[encoded data removed]"
          },
          "metadata": {
            "needs_background": "light"
          }
        }
      ]
    },
    {
      "cell_type": "code",
      "source": [
        "plt.imshow(images[90])"
      ],
      "metadata": {
        "id": "PzhcHlceItR7",
        "colab": {
          "base_uri": "https://localhost:8080/"
        },
        "outputId": "686025f3-357a-4a51-badb-51a3b2e641dd"
      },
      "execution_count": null,
      "outputs": [
        {
          "output_type": "stream",
          "name": "stderr",
          "text": [
            "WARNING:matplotlib.image:Clipping input data to the valid range for imshow with RGB data ([0..1] for floats or [0..255] for integers).\n"
          ]
        },
        {
          "output_type": "execute_result",
          "data": {
            "text/plain": [
              "<matplotlib.image.AxesImage at 0x7fbd8b9d4c70>"
            ]
          },
          "metadata": {},
          "execution_count": 18
        },
        {
          "output_type": "display_data",
          "data": {
            "text/plain": [
              "<Figure size 432x288 with 1 Axes>"
            ],
            "image/png": "[encoded data removed]"
          },
          "metadata": {
            "needs_background": "light"
          }
        }
      ]
    },
    {
      "cell_type": "code",
      "source": [
        "plt.imshow((images.float().mean(0) * 70).int())"
      ],
      "metadata": {
        "id": "Reh-eU2wIun3",
        "colab": {
          "base_uri": "https://localhost:8080/"
        },
        "outputId": "8815d999-5adb-4e22-828c-b9c616c1932e"
      },
      "execution_count": null,
      "outputs": [
        {
          "output_type": "execute_result",
          "data": {
            "text/plain": [
              "<matplotlib.image.AxesImage at 0x7fbd8b9b9610>"
            ]
          },
          "metadata": {},
          "execution_count": 19
        },
        {
          "output_type": "display_data",
          "data": {
            "text/plain": [
              "<Figure size 432x288 with 1 Axes>"
            ],
            "image/png": "[encoded data removed]"
          },
          "metadata": {
            "needs_background": "light"
          }
        }
      ]
    },
    {
      "cell_type": "markdown",
      "metadata": {
        "id": "oQnhq5ZdYKCu"
      },
      "source": [
        "### Задача 4"
      ]
    },
    {
      "cell_type": "markdown",
      "metadata": {
        "id": "UB95BhgTYKCu"
      },
      "source": [
        "- В Colab нажмите в меню сверху: `Runtime` -> `Change Runtime Type` -> `GPU`, где изначально стоит `None` (`Среда выполнение` - `Сменить среду выполнения`)\n",
        "- Объявите тензор `a` размера (2, 3, 4) и тензор `b` размера (1, 8, 3) на GPU, иницилизируйте их случайно равномерно (`.uniform_()`)\n",
        "- Затем измените форму тензора `b`, чтобы она совпадала с формой тензора `a`, получите тензор `c`  \n",
        "- Переместите `c` на CPU, переместите `a` на CPU  \n",
        "- Оберните их в `Variable()`\n",
        "- Объявите тензор `L = torch.mean((c - a) `**` 2)` и посчитайте градиент `L` по `c` ( то есть $\\frac{\\partial{L}}{\\partial{c}})$\n",
        "- Выведите градиент `L` по `c`"
      ]
    },
    {
      "cell_type": "code",
      "metadata": {
        "id": "WESOm5TCYKCv"
      },
      "source": [
        "a = torch.rand(2, 3, 4).uniform_().cuda()\n",
        "b = torch.rand(1, 8, 3).uniform_().cuda()"
      ],
      "execution_count": null,
      "outputs": []
    },
    {
      "cell_type": "code",
      "source": [
        "a"
      ],
      "metadata": {
        "id": "RFtsTRpRI0WI",
        "colab": {
          "base_uri": "https://localhost:8080/"
        },
        "outputId": "f2b4f49d-81c6-43f6-c9c4-033133c5f201"
      },
      "execution_count": null,
      "outputs": [
        {
          "output_type": "execute_result",
          "data": {
            "text/plain": [
              "tensor([[[0.2735, 0.8439, 0.8098, 0.2179],\n",
              "         [0.2624, 0.5740, 0.7569, 0.4239],\n",
              "         [0.9304, 0.7389, 0.4334, 0.5888]],\n",
              "\n",
              "        [[0.9908, 0.4589, 0.0414, 0.7881],\n",
              "         [0.2720, 0.0245, 0.1215, 0.6518],\n",
              "         [0.5443, 0.8180, 0.4546, 0.7935]]], device='cuda:0')"
            ]
          },
          "metadata": {},
          "execution_count": 21
        }
      ]
    },
    {
      "cell_type": "code",
      "source": [
        "b"
      ],
      "metadata": {
        "id": "g-DdsvQCI02M",
        "colab": {
          "base_uri": "https://localhost:8080/"
        },
        "outputId": "356ae9b7-bae6-431c-914c-83f81217b475"
      },
      "execution_count": null,
      "outputs": [
        {
          "output_type": "execute_result",
          "data": {
            "text/plain": [
              "tensor([[[0.2479, 0.8203, 0.6949],\n",
              "         [0.0469, 0.3189, 0.9998],\n",
              "         [0.1246, 0.2298, 0.2692],\n",
              "         [0.5085, 0.9368, 0.4191],\n",
              "         [0.0302, 0.5201, 0.8271],\n",
              "         [0.6030, 0.5526, 0.2855],\n",
              "         [0.3768, 0.7955, 0.6231],\n",
              "         [0.9046, 0.4218, 0.5149]]], device='cuda:0')"
            ]
          },
          "metadata": {},
          "execution_count": 22
        }
      ]
    },
    {
      "cell_type": "code",
      "source": [
        "c = b.reshape(a.shape)"
      ],
      "metadata": {
        "id": "2zVqKfUpI1TP"
      },
      "execution_count": null,
      "outputs": []
    },
    {
      "cell_type": "code",
      "source": [
        "c.shape == a.shape"
      ],
      "metadata": {
        "id": "aigJ6VAnI3CT",
        "colab": {
          "base_uri": "https://localhost:8080/"
        },
        "outputId": "afefac5a-1fce-4fa1-f317-dc038fbd596e"
      },
      "execution_count": null,
      "outputs": [
        {
          "output_type": "execute_result",
          "data": {
            "text/plain": [
              "True"
            ]
          },
          "metadata": {},
          "execution_count": 24
        }
      ]
    },
    {
      "cell_type": "code",
      "source": [
        "a = a.cpu()\n",
        "c = c.cpu()"
      ],
      "metadata": {
        "id": "sAWJb0b_I4dV"
      },
      "execution_count": null,
      "outputs": []
    },
    {
      "cell_type": "code",
      "source": [
        "a, c = Variable(a), Variable(c, requires_grad=True)"
      ],
      "metadata": {
        "id": "kielh5SDI50h"
      },
      "execution_count": null,
      "outputs": []
    },
    {
      "cell_type": "code",
      "source": [
        "L = torch.mean((c - a)**2)\n",
        "L.backward()\n",
        "c.grad"
      ],
      "metadata": {
        "id": "resboYT5I7YU",
        "colab": {
          "base_uri": "https://localhost:8080/"
        },
        "outputId": "58e00cba-225a-47b4-d3b3-54ad65453a31"
      },
      "execution_count": null,
      "outputs": [
        {
          "output_type": "execute_result",
          "data": {
            "text/plain": [
              "tensor([[[-0.0021, -0.0020, -0.0096, -0.0142],\n",
              "         [ 0.0047,  0.0355, -0.0527, -0.0162],\n",
              "         [-0.0551, -0.0192,  0.0419, -0.0141]],\n",
              "\n",
              "        [[-0.0800,  0.0051,  0.0655, -0.0154],\n",
              "         [ 0.0234,  0.0217,  0.0213,  0.0120],\n",
              "         [ 0.0066,  0.0072, -0.0027, -0.0232]]])"
            ]
          },
          "metadata": {},
          "execution_count": 27
        }
      ]
    }
  ]
}
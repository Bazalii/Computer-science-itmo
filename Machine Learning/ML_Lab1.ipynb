{
  "nbformat": 4,
  "nbformat_minor": 0,
  "metadata": {
    "colab": {
      "provenance": []
    },
    "kernelspec": {
      "display_name": "Python 3",
      "language": "python",
      "name": "python3"
    },
    "language_info": {
      "codemirror_mode": {
        "name": "ipython",
        "version": 3
      },
      "file_extension": ".py",
      "mimetype": "text/x-python",
      "name": "python",
      "nbconvert_exporter": "python",
      "pygments_lexer": "ipython3",
      "version": "3.7.4"
    }
  },
  "cells": [
    {
      "cell_type": "markdown",
      "source": [
        "Перед началом выполнения, сделайте копию этого colab'а. Чтобы сделать копию нужно в пункте меню Файл выбрать \"Сохранить копию на диске\""
      ],
      "metadata": {
        "id": "131T1pm5PaF4"
      }
    },
    {
      "cell_type": "markdown",
      "metadata": {
        "id": "BsNwjQDRfmLY"
      },
      "source": [
        "# Задание 1"
      ]
    },
    {
      "cell_type": "markdown",
      "metadata": {
        "id": "wu6r1-s7fmLe"
      },
      "source": [
        "---"
      ]
    },
    {
      "cell_type": "markdown",
      "metadata": {
        "id": "zxRIdPO9gYyX"
      },
      "source": [
        "Напишите программу, которая будет решать систему линейных уравнений вида:\n",
        "\n",
        "\\begin{matrix} a_{11}x+a_{12}y=b_{1}&(1) \\\\ a_{21}x+a_{22}y=b_{2} &(2) \\end{matrix}\n",
        "​\t\n",
        "На вход программа должна принимать 2 строки.\n",
        "\n",
        "Каждая строка содержит 3 действительных числа через пробел: коэффициенты a и b.\n",
        "\n",
        "На выходе программа должна выдавать значения x и y в одну строку через пробел.\n",
        " \n",
        "\n",
        "Примечание 1. Для разделения строки на отдельные элементы используйте функцию split()\n",
        "\n",
        "Примечание 2. В качестве разделителя между целой и дробной частью используйте точку, например 0.2"
      ]
    },
    {
      "cell_type": "code",
      "metadata": {
        "id": "6sxlcLbVlrjl"
      },
      "source": [
        "def linan(firstEquation, secondEquation):\n",
        "  splittedFirstEquation = firstEquation.split()\n",
        "  splittedSecondEquation = secondEquation.split()\n",
        "\n",
        "  a_11 = float(splittedFirstEquation[0])\n",
        "  a_12 = float(splittedFirstEquation[1])\n",
        "  b_1 = float(splittedFirstEquation[2])\n",
        "\n",
        "  a_21 = float(splittedSecondEquation[0])\n",
        "  a_22 = float(splittedSecondEquation[1])\n",
        "  b_2 = float(splittedSecondEquation[2])\n",
        "\n",
        "  y = (b_2 * a_11 - a_21*b_1)/(a_11*a_22 - a_21*a_12)\n",
        "  x = (b_1 - a_12*y) / a_11\n",
        "\n",
        "  return x, y"
      ],
      "execution_count": null,
      "outputs": []
    },
    {
      "cell_type": "code",
      "source": [
        "print(linan(\"1 -1 7\", \"3 2 16\"))"
      ],
      "metadata": {
        "colab": {
          "base_uri": "https://localhost:8080/"
        },
        "id": "wnlDBG3Vj9nu",
        "outputId": "e456e61a-5d25-46e4-85ff-f2223955db66"
      },
      "execution_count": null,
      "outputs": [
        {
          "output_type": "stream",
          "name": "stdout",
          "text": [
            "(6.0, -1.0)\n"
          ]
        }
      ]
    },
    {
      "cell_type": "markdown",
      "source": [
        "### Подсказка 1"
      ],
      "metadata": {
        "id": "kElPCFyiua9I"
      }
    },
    {
      "cell_type": "code",
      "source": [],
      "metadata": {
        "id": "jwjE2xldue0h"
      },
      "execution_count": null,
      "outputs": []
    },
    {
      "cell_type": "markdown",
      "metadata": {
        "id": "wLoVDMQnfmOv"
      },
      "source": [
        "# Задание 2"
      ]
    },
    {
      "cell_type": "markdown",
      "metadata": {
        "id": "6bmt_YF3fmOw"
      },
      "source": [
        "Напишите функцию `decorate_matrix`, которая получает на вход одно целое число больше единицы. Функция должна возвращать матрицу n на n, у которой на границах стоят единицы, а на всех остальных позициях(если остались позиции не на границах) стоят нули.\n",
        "\n",
        "Нужно сделать без использования  циклов.\n",
        "\n",
        "```\n",
        "# ожидаемый резальтат для аргумента 5\n",
        "array([[1., 1., 1., 1., 1.],\n",
        "[1., 0., 0., 0., 1.],\n",
        "[1., 0., 0., 0., 1.],\n",
        "[1., 0., 0., 0., 1.],\n",
        "[1., 1., 1., 1., 1.]])\n",
        "```\n",
        "\n"
      ]
    },
    {
      "cell_type": "code",
      "source": [
        "import numpy as np"
      ],
      "metadata": {
        "id": "oLra6uqbmXC_"
      },
      "execution_count": null,
      "outputs": []
    },
    {
      "cell_type": "code",
      "source": [
        "def decorate_matrix(n):\n",
        "  matrixOfOnes = np.ones((n, n))\n",
        "  matrixOfOnes[1:-1, 1:-1] = 0\n",
        "  return matrixOfOnes"
      ],
      "metadata": {
        "id": "IXs6RPy6sTPe"
      },
      "execution_count": null,
      "outputs": []
    },
    {
      "cell_type": "code",
      "source": [
        "decorate_matrix(10)"
      ],
      "metadata": {
        "colab": {
          "base_uri": "https://localhost:8080/"
        },
        "id": "knqEBCYc0omQ",
        "outputId": "856b0507-6d60-45e5-ff6f-61a7b2afb602"
      },
      "execution_count": null,
      "outputs": [
        {
          "output_type": "execute_result",
          "data": {
            "text/plain": [
              "array([[1., 1., 1., 1., 1., 1., 1., 1., 1., 1.],\n",
              "       [1., 0., 0., 0., 0., 0., 0., 0., 0., 1.],\n",
              "       [1., 0., 0., 0., 0., 0., 0., 0., 0., 1.],\n",
              "       [1., 0., 0., 0., 0., 0., 0., 0., 0., 1.],\n",
              "       [1., 0., 0., 0., 0., 0., 0., 0., 0., 1.],\n",
              "       [1., 0., 0., 0., 0., 0., 0., 0., 0., 1.],\n",
              "       [1., 0., 0., 0., 0., 0., 0., 0., 0., 1.],\n",
              "       [1., 0., 0., 0., 0., 0., 0., 0., 0., 1.],\n",
              "       [1., 0., 0., 0., 0., 0., 0., 0., 0., 1.],\n",
              "       [1., 1., 1., 1., 1., 1., 1., 1., 1., 1.]])"
            ]
          },
          "metadata": {},
          "execution_count": 53
        }
      ]
    },
    {
      "cell_type": "markdown",
      "metadata": {
        "id": "75sxny1zSCbl"
      },
      "source": [
        "# Задание 3"
      ]
    },
    {
      "cell_type": "markdown",
      "metadata": {
        "id": "2Xq1tBBAS5UJ"
      },
      "source": [
        "1) реализуйте 2 функции:\n",
        "\n",
        "$f(x) = (x+a)^2 - b$ \n",
        "\n",
        "$g(x) = |f(x)|$\n",
        "\n",
        "2) Найдите аргументы, при которых достигается минимум функций $f(x)$ и $g(x)$\n",
        "\n",
        "Пример. \n",
        "Входные значение: $a=3$ и $b=4$\n",
        "\n",
        "Выходные значения:\n",
        "\n",
        "`-3.0 -1.0`"
      ]
    },
    {
      "cell_type": "code",
      "source": [
        "import scipy.optimize as scio"
      ],
      "metadata": {
        "id": "KYQMuJJmUxYL"
      },
      "execution_count": null,
      "outputs": []
    },
    {
      "cell_type": "code",
      "source": [
        "def f(x, a, b):\n",
        "  return (x + a)**2 - b\n",
        "\n",
        "def g(x, a, b):\n",
        "  return abs(f(x, a, b))\n",
        "\n",
        "def findMinimumOfF(a, b):\n",
        "  return -a\n",
        "\n",
        "def findMinimumOfG(a, b):\n",
        "  if (b > 0):\n",
        "    return -a + b**0.5, -a - b**0.5\n",
        "  return -a, None\n",
        "\n",
        "a = 3\n",
        "b = 4\n",
        "\n",
        "minimumOfF = findMinimumOfF(a, b)\n",
        "firstMinimumOfG, secondMinimumOfG = findMinimumOfG(a, b)\n",
        "\n",
        "print(minimumOfF)"
      ],
      "metadata": {
        "id": "Vh7ESdEvQu23",
        "colab": {
          "base_uri": "https://localhost:8080/"
        },
        "outputId": "89913f24-33dd-4a02-c80c-cbb186f05508"
      },
      "execution_count": null,
      "outputs": [
        {
          "output_type": "stream",
          "name": "stdout",
          "text": [
            "-3\n"
          ]
        }
      ]
    },
    {
      "cell_type": "markdown",
      "metadata": {
        "id": "efml9GzISC9Q"
      },
      "source": [
        "# Задание 4"
      ]
    },
    {
      "cell_type": "markdown",
      "metadata": {
        "id": "SDZvKcsTVbAW"
      },
      "source": [
        "Постройте графики для функций из предыдущего задания и отметьте другим цветом на графиках точки найденных минимумов."
      ]
    },
    {
      "cell_type": "code",
      "source": [
        "from matplotlib import pyplot"
      ],
      "metadata": {
        "id": "Rh1vSLT6YHiS"
      },
      "execution_count": null,
      "outputs": []
    },
    {
      "cell_type": "code",
      "source": [
        "x = np.linspace(-15, 15)\n",
        "\n",
        "pyplot.plot(x, f(x, a, b))\n",
        "pyplot.title(\"f(x)\")\n",
        "pyplot.scatter(minimumOfF, f(minimumOfF, a, b), c=['#00FF00'], marker=\"o\")\n",
        "pyplot.show()\n",
        "\n",
        "pyplot.plot(x, g(x, a, b))\n",
        "pyplot.title(\"g(x)\")\n",
        "pyplot.scatter(firstMinimumOfG, g(firstMinimumOfG, a, b), c=['#00FF00'], marker=\"o\")\n",
        "if (secondMinimumOfG is not None):\n",
        "  pyplot.scatter(secondMinimumOfG, g(secondMinimumOfG, a, b), c=['#00FF00'], marker=\"o\")\n",
        "pyplot.show()"
      ],
      "metadata": {
        "colab": {
          "base_uri": "https://localhost:8080/",
          "height": 545
        },
        "id": "Z1swC9mVYSz1",
        "outputId": "69034713-6c98-456e-e0ac-051b7803c47b"
      },
      "execution_count": null,
      "outputs": [
        {
          "output_type": "display_data",
          "data": {
            "text/plain": [
              "<Figure size 432x288 with 1 Axes>"
            ],
            "image/png": "[encoded data removed]"
          },
          "metadata": {
            "needs_background": "light"
          }
        },
        {
          "output_type": "display_data",
          "data": {
            "text/plain": [
              "<Figure size 432x288 with 1 Axes>"
            ],
            "image/png": "[encoded data removed]"
          },
          "metadata": {
            "needs_background": "light"
          }
        }
      ]
    },
    {
      "cell_type": "markdown",
      "metadata": {
        "id": "mrby3EfiSDKJ"
      },
      "source": [
        "# Задание 5"
      ]
    },
    {
      "cell_type": "markdown",
      "metadata": {
        "id": "J6AZ8785VkQd"
      },
      "source": [
        "1000 человек бросают монетку. Каждый бросил 10 раз подряд.\n",
        "\n",
        " 1. Какова вероятность того, что хотя бы у одного человека монетка выпала 10 раз подряд той же самой стороной (орлом или решкой)? \n",
        " 2. Какова вероятность того, что хотя бы у одного человека монетка выпала 8 раз подряд той же самой стороной (орлом или решкой)? \n",
        " 3. Какова вероятность того, что ровно у троих человек из 1000 монетка выпала 10 раз подряд той же самой стороной (орлом или решкой)?"
      ]
    },
    {
      "cell_type": "code",
      "source": [
        "import math"
      ],
      "metadata": {
        "id": "J63RUBH0h_rs"
      },
      "execution_count": null,
      "outputs": []
    },
    {
      "cell_type": "code",
      "source": [
        "# (1022 / 1024) - вероятность того, что у человека монетка не выпала 10 раз подряд, возводим в степень 1000 - не выпала ни у кого, \n",
        "# чтобы найти вероятность того, что она не выпала ни у кого достаточно вычесть данное выражение из 1\n",
        "firstProbability = 1 - (1022 / 1024) ** 1000\n",
        "\n",
        "# 10/1024 - у человека 8 раз подряд выпадает монетка одной стороной, 1 - данная вероятность - вероятность, \n",
        "# что такого события не произошло, возводя в степень 1000 - что ни у кого такого не произошло и для \n",
        "# искомой вероятности - 1\n",
        "secondProbability = 1 - (1 - 10/1024) ** 1000\n",
        "\n",
        "# Применяем формулу Бернулли для события, что у нас для трех человек событие\n",
        "# выпадания монеток 10 раз подряд одной стороной выполняется, а для всех остальных - нет\n",
        "thirdProbability = math.factorial(1000) / (math.factorial(997) * math.factorial(3)) * (2/1024)**3 * (1022/1024)**997\n",
        "\n",
        "print(round(firstProbability, 4), round(secondProbability, 4), round(thirdProbability, 4))"
      ],
      "metadata": {
        "colab": {
          "base_uri": "https://localhost:8080/"
        },
        "id": "4Dwgl_nQqK7f",
        "outputId": "78601e45-af76-49ee-f95a-049155490102"
      },
      "execution_count": null,
      "outputs": [
        {
          "output_type": "stream",
          "name": "stdout",
          "text": [
            "0.8584 0.9999 0.1763\n"
          ]
        }
      ]
    }
  ]
}